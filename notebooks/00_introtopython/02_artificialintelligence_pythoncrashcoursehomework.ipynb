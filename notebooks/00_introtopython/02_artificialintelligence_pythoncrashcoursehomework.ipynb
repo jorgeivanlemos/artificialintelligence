{
  "nbformat": 4,
  "nbformat_minor": 0,
  "metadata": {
    "kernelspec": {
      "display_name": "Python 3",
      "language": "python",
      "name": "python3"
    },
    "language_info": {
      "codemirror_mode": {
        "name": "ipython",
        "version": 3
      },
      "file_extension": ".py",
      "mimetype": "text/x-python",
      "name": "python",
      "nbconvert_exporter": "python",
      "pygments_lexer": "ipython3",
      "version": "3.7.4"
    },
    "colab": {
      "name": "02_artificialintelligence_pythoncrashcoursehomework.ipynb",
      "provenance": []
    }
  },
  "cells": [
    {
      "cell_type": "markdown",
      "metadata": {
        "id": "iyGqDanmyQtx"
      },
      "source": [
        "<!--NAVIGATION-->\n",
        "<a href=\"https://colab.research.google.com/github/marcoteran/artificialintelligence/blob/master/notebooks/00_introtopython/02_artificialintelligence_pythoncrashcoursehomework.ipynb\" target=\"_blank\"><img align=\"left\" src=\"https://colab.research.google.com/assets/colab-badge.svg\" alt=\"Abrir en Colab\" title=\"Abrir y ejecutar en Google Colaboratory\"></a>"
      ]
    },
    {
      "cell_type": "markdown",
      "metadata": {
        "id": "t-r1gYL5yQt_"
      },
      "source": [
        "### Taller\n",
        "# Taller: Ejercicios curso rápido de Python\n",
        "## Inteligencia Artificial"
      ]
    },
    {
      "cell_type": "markdown",
      "metadata": {
        "id": "PLM02ZzzyQuC"
      },
      "source": [
        "**Name:** Marco Teran **E-mail:** marco.tulio.teran@gmail.com,\n",
        "[Website](http://marcoteran.github.io/),\n",
        "[Github](https://github.com/marcoteran),\n",
        "[LinkedIn](https://www.linkedin.com/in/marcoteran/).\n",
        "___"
      ]
    },
    {
      "cell_type": "markdown",
      "metadata": {
        "id": "QXugrhq_yQuH"
      },
      "source": [
        "Escriba su nombre completo:\n",
        "## Nombre:\n",
        "__Jorge Ivan Lemos Peña\n",
        "_"
      ]
    },
    {
      "cell_type": "markdown",
      "metadata": {
        "id": "QHR4mzuuyQuF"
      },
      "source": [
        "En este notebook se plantan algunos ejercicios de programación en Python para repasar los conceptos estudiados. Si usted piensa que necesita más bases de programación o más bases de Python por favor considere hacer trabajo extra para ponerse al día. Por ejemplo con el siguiente curso en línea: [CodeCademy: Learn Python (10 hours)](https://www.codecademy.com/courses/learn-python/lessons/python-syntax/exercises/welcome?action=lesson_resume)."
      ]
    },
    {
      "cell_type": "markdown",
      "metadata": {
        "id": "AbOZ4nLcyQuI"
      },
      "source": [
        "## Ejercicios\n",
        "\n",
        "Conteste las preguntas o complete las tareas que se presentan en negrilla a continuación. Use los métodos de Python cuando sea necesario."
      ]
    },
    {
      "cell_type": "markdown",
      "metadata": {
        "id": "5nTEtZiAyQuM"
      },
      "source": [
        "** ¿Cuánto es 7 elevado a la potencia de 4?**"
      ]
    },
    {
      "cell_type": "code",
      "metadata": {
        "collapsed": true,
        "id": "xi_TjWS0yQuQ",
        "outputId": "bd2e93a9-1189-4f03-f9c4-839dfb90ab85",
        "colab": {
          "base_uri": "https://localhost:8080/"
        }
      },
      "source": [
        "print(7**4)"
      ],
      "execution_count": 1,
      "outputs": [
        {
          "output_type": "stream",
          "name": "stdout",
          "text": [
            "2401\n"
          ]
        }
      ]
    },
    {
      "cell_type": "code",
      "metadata": {
        "id": "FvdNtYUjyQuU",
        "outputId": "9520dabc-a712-4a61-8a31-04b3ee80480c"
      },
      "source": [
        "# NO USAR ESTA CELDA"
      ],
      "execution_count": null,
      "outputs": [
        {
          "data": {
            "text/plain": [
              "2401"
            ]
          },
          "execution_count": 1,
          "metadata": {},
          "output_type": "execute_result"
        }
      ]
    },
    {
      "cell_type": "markdown",
      "metadata": {
        "id": "B7ykbs7FyQuc"
      },
      "source": [
        "** Separe la siguiente cadena (usando como delimitador los espacios):**\n",
        "\n",
        "    s = \"Hola, este es un ejercio de Python!\"\n",
        "    \n",
        "**en una lista. **"
      ]
    },
    {
      "cell_type": "code",
      "metadata": {
        "collapsed": true,
        "id": "wc7IuKWLyQug",
        "outputId": "8f351803-9eb5-4cca-b531-bca2d986fe29",
        "colab": {
          "base_uri": "https://localhost:8080/",
          "height": 171
        }
      },
      "source": [
        "print(\"Hola, este es un ejercio de Python!\".split(\"\",\"\"))"
      ],
      "execution_count": 10,
      "outputs": [
        {
          "output_type": "error",
          "ename": "TypeError",
          "evalue": "ignored",
          "traceback": [
            "\u001b[0;31m---------------------------------------------------------------------------\u001b[0m",
            "\u001b[0;31mTypeError\u001b[0m                                 Traceback (most recent call last)",
            "\u001b[0;32m<ipython-input-10-32ec0ac1d620>\u001b[0m in \u001b[0;36m<module>\u001b[0;34m()\u001b[0m\n\u001b[0;32m----> 1\u001b[0;31m \u001b[0mprint\u001b[0m\u001b[0;34m(\u001b[0m\u001b[0;34m\"Hola, este es un ejercio de Python!\"\u001b[0m\u001b[0;34m.\u001b[0m\u001b[0msplit\u001b[0m\u001b[0;34m(\u001b[0m\u001b[0;34m\"\"\u001b[0m\u001b[0;34m,\u001b[0m\u001b[0;34m\"\"\u001b[0m\u001b[0;34m)\u001b[0m\u001b[0;34m)\u001b[0m\u001b[0;34m\u001b[0m\u001b[0;34m\u001b[0m\u001b[0m\n\u001b[0m",
            "\u001b[0;31mTypeError\u001b[0m: 'str' object cannot be interpreted as an integer"
          ]
        }
      ]
    },
    {
      "cell_type": "code",
      "metadata": {
        "collapsed": true,
        "id": "2_pbFzYXyQuh"
      },
      "source": [
        ""
      ],
      "execution_count": null,
      "outputs": []
    },
    {
      "cell_type": "code",
      "metadata": {
        "id": "QbTX3mWJyQuj"
      },
      "source": [
        "# NO USAR ESTA CELDA"
      ],
      "execution_count": 11,
      "outputs": []
    },
    {
      "cell_type": "markdown",
      "metadata": {
        "id": "shzriGqfyQuk"
      },
      "source": [
        "###### ** Dadas las siguientes variables:**\n",
        "\n",
        "    planeta = \"Tierra\"\n",
        "    diametro = 12756\n",
        "\n",
        "** Use el método .format() para imprimir en pantalla la siguiente cadena: **\n",
        "\n",
        "    El diámetro del planeta Tierra es 12756 kilometros."
      ]
    },
    {
      "cell_type": "code",
      "metadata": {
        "collapsed": true,
        "id": "7jVEmIHCyQum"
      },
      "source": [
        "planeta = \"Tierra\"\n",
        "diametro = 12756"
      ],
      "execution_count": null,
      "outputs": []
    },
    {
      "cell_type": "code",
      "metadata": {
        "collapsed": true,
        "id": "VBh4orAwyQun"
      },
      "source": [
        ""
      ],
      "execution_count": null,
      "outputs": []
    },
    {
      "cell_type": "code",
      "metadata": {
        "id": "V4h-SHvqyQun",
        "outputId": "458f35bc-3496-48c7-c0a8-b9990e1ff6df"
      },
      "source": [
        "# NO USAR ESTA CELDA"
      ],
      "execution_count": null,
      "outputs": [
        {
          "name": "stdout",
          "output_type": "stream",
          "text": [
            "El diámetro del planeta Tierra es 12756 kilometros.\n"
          ]
        }
      ]
    },
    {
      "cell_type": "markdown",
      "metadata": {
        "id": "VT9phjydyQuo"
      },
      "source": [
        "** Dada la siguiente lista anidada, acceda a la palabra \"hola\" usando solamente los índices de la lista: **"
      ]
    },
    {
      "cell_type": "code",
      "metadata": {
        "collapsed": true,
        "id": "hruHOjMpyQup"
      },
      "source": [
        "lst = [1,2,[3,4],[5,[100,200,['hola']],23,11],1,7]"
      ],
      "execution_count": null,
      "outputs": []
    },
    {
      "cell_type": "code",
      "metadata": {
        "collapsed": true,
        "id": "GrCSSXlfyQuq"
      },
      "source": [
        ""
      ],
      "execution_count": null,
      "outputs": []
    },
    {
      "cell_type": "code",
      "metadata": {
        "id": "XCCg2RzWyQur",
        "outputId": "163be8b1-061a-4cb5-fcc2-ed17cd3ee47f"
      },
      "source": [
        "# NO USAR ESTA CELDA"
      ],
      "execution_count": null,
      "outputs": [
        {
          "data": {
            "text/plain": [
              "'hola'"
            ]
          },
          "execution_count": 11,
          "metadata": {},
          "output_type": "execute_result"
        }
      ]
    },
    {
      "cell_type": "markdown",
      "metadata": {
        "id": "ho96LxzHyQus"
      },
      "source": [
        "** Dado el siguiente diccionario anidado, acceda a la palabra \"hola\". Este ejercicio puede ser un poco difícil. \n",
        "NOTA: Aunque este tipo de cosas no son necesarias normalmente, sirven para terminar de despejar dudas acerca del acceso a diccionarios y listas anidadas: **"
      ]
    },
    {
      "cell_type": "code",
      "metadata": {
        "collapsed": true,
        "id": "MiVIFWnQyQut"
      },
      "source": [
        "d = {'k1':[1,2,3,{'difícil':['que','significa','esto',{'casi':[0,1,2,3,'hola']}]}]}"
      ],
      "execution_count": null,
      "outputs": []
    },
    {
      "cell_type": "code",
      "metadata": {
        "collapsed": true,
        "id": "_Gfl43hCyQuu"
      },
      "source": [
        ""
      ],
      "execution_count": null,
      "outputs": []
    },
    {
      "cell_type": "code",
      "metadata": {
        "id": "tFQXJHBkyQuu",
        "outputId": "18b30611-65d4-4e33-9863-a037f7f7c179"
      },
      "source": [
        "# NO USAR ESTA CELDA"
      ],
      "execution_count": null,
      "outputs": [
        {
          "data": {
            "text/plain": [
              "'hola'"
            ]
          },
          "execution_count": 15,
          "metadata": {},
          "output_type": "execute_result"
        }
      ]
    },
    {
      "cell_type": "markdown",
      "metadata": {
        "id": "U1hjMM8kyQuv"
      },
      "source": [
        "** ¿Cuál es la principal diferencia entre una tupla y una lista? Escriba su respuesta como un comentario de Python**"
      ]
    },
    {
      "cell_type": "code",
      "metadata": {
        "collapsed": true,
        "id": "ow3rGGvcyQuv"
      },
      "source": [
        ""
      ],
      "execution_count": null,
      "outputs": []
    },
    {
      "cell_type": "markdown",
      "metadata": {
        "id": "odlfBqrYyQuw"
      },
      "source": [
        "** Crear una función que extraiga el dominio de una página web a partir de una cadena que contenga un email de la siguiente forma: **\n",
        "\n",
        "    usuario@dominio.com\n",
        "    \n",
        "**Por ejemplo: si se le pasa \"frestrepo@gmail.com\", la función retornará: gmail.com**"
      ]
    },
    {
      "cell_type": "code",
      "metadata": {
        "collapsed": true,
        "id": "dknBBagkyQuw"
      },
      "source": [
        ""
      ],
      "execution_count": null,
      "outputs": []
    },
    {
      "cell_type": "code",
      "metadata": {
        "collapsed": true,
        "id": "9erkii2fyQux"
      },
      "source": [
        ""
      ],
      "execution_count": null,
      "outputs": []
    },
    {
      "cell_type": "code",
      "metadata": {
        "id": "I1-C_D51yQux",
        "outputId": "05f4c1f1-9837-4084-e76a-c14eaf386548"
      },
      "source": [
        "getDomain('frestrepo@gmail.com')"
      ],
      "execution_count": null,
      "outputs": [
        {
          "data": {
            "text/plain": [
              "'gmail.com'"
            ]
          },
          "execution_count": 23,
          "metadata": {},
          "output_type": "execute_result"
        }
      ]
    },
    {
      "cell_type": "markdown",
      "metadata": {
        "id": "3RjaftHOyQuy"
      },
      "source": [
        "** Crear una función que retorne True si la palabra 'perro' está contenida en la cadena de entrada; False, en caso contrario. Por ahora no se preocupe por casos especiales como cuando la palabra tiene algún signo de puntuación inmediatamente despúes de ésta, pero si tenga en cuenta que la palabra puede estar en mayúsculas, minúsculas o una mezcla de ellas. **"
      ]
    },
    {
      "cell_type": "code",
      "metadata": {
        "collapsed": true,
        "id": "54DrunPnyQuz"
      },
      "source": [
        ""
      ],
      "execution_count": null,
      "outputs": []
    },
    {
      "cell_type": "code",
      "metadata": {
        "collapsed": true,
        "id": "R2dDtNvxyQu0"
      },
      "source": [
        ""
      ],
      "execution_count": null,
      "outputs": []
    },
    {
      "cell_type": "code",
      "metadata": {
        "id": "JhXMeqruyQu0",
        "outputId": "ee01a008-3414-4d88-c65d-16f97bca4c72"
      },
      "source": [
        "findDog('¿Hay algún peRRo aquí?')"
      ],
      "execution_count": null,
      "outputs": [
        {
          "data": {
            "text/plain": [
              "True"
            ]
          },
          "execution_count": 27,
          "metadata": {},
          "output_type": "execute_result"
        }
      ]
    },
    {
      "cell_type": "markdown",
      "metadata": {
        "id": "MJcAepRCyQu1"
      },
      "source": [
        "** Crear una función que cuente el número de veces que aparece la palabra \"perro\" en una cadena. Puede ignorar casos especiales como antes. **"
      ]
    },
    {
      "cell_type": "code",
      "metadata": {
        "collapsed": true,
        "id": "CBs-z8cDyQu1"
      },
      "source": [
        ""
      ],
      "execution_count": null,
      "outputs": []
    },
    {
      "cell_type": "code",
      "metadata": {
        "collapsed": true,
        "id": "mw_UkG1fyQu2"
      },
      "source": [
        ""
      ],
      "execution_count": null,
      "outputs": []
    },
    {
      "cell_type": "code",
      "metadata": {
        "id": "SgwnXz6ryQu2",
        "outputId": "78969308-9965-4f89-c977-de4d038f64bb"
      },
      "source": [
        "countDog('Este peRRO corre más rápido que el perro blanco y el perro negro!')"
      ],
      "execution_count": null,
      "outputs": [
        {
          "data": {
            "text/plain": [
              "3"
            ]
          },
          "execution_count": 48,
          "metadata": {},
          "output_type": "execute_result"
        }
      ]
    },
    {
      "cell_type": "markdown",
      "metadata": {
        "id": "xE2CX0ChyQu3"
      },
      "source": [
        "** Usar una expresión lambda y la función filter() para filtrar las palabras de una lista que NO comiencen con la letra 's'. Por ejemplo:**\n",
        "\n",
        "    seq = ['sopa','perro','sal','gato','grande']\n",
        "\n",
        "**se debe filtrar como:**\n",
        "\n",
        "    ['sopa','sal']"
      ]
    },
    {
      "cell_type": "code",
      "metadata": {
        "collapsed": true,
        "id": "LzdyVt9zyQu3"
      },
      "source": [
        "seq = ['sopa','perro','sal','gato','grande']"
      ],
      "execution_count": null,
      "outputs": []
    },
    {
      "cell_type": "code",
      "metadata": {
        "collapsed": true,
        "id": "ySIKi7gCyQu3"
      },
      "source": [
        ""
      ],
      "execution_count": null,
      "outputs": []
    },
    {
      "cell_type": "code",
      "metadata": {
        "id": "B4nu4PZYyQu4",
        "outputId": "768858c8-224a-450a-ede3-525b591eaed8"
      },
      "source": [
        "# NO USAR ESTA CELDA"
      ],
      "execution_count": null,
      "outputs": [
        {
          "data": {
            "text/plain": [
              "['sopa', 'sal']"
            ]
          },
          "execution_count": 50,
          "metadata": {},
          "output_type": "execute_result"
        }
      ]
    },
    {
      "cell_type": "markdown",
      "metadata": {
        "id": "009S5qRFyQu6"
      },
      "source": [
        "### Problema final\n",
        "**Usted va conduciendo su carro muy rápido y es detenido por un agente de tránsito. Escriba una función que retorne uno de los 3 siguientes resultados: \"Sin multa\", \"Multa pequeña\", or \"Multa grande\". \n",
        "  Si la velocidad es 60 Km/h o menos, el resultado es \"Sin multa\". Si la velocidad está entre 60 y 80 Km/h (inclusive), el resultado es \"Multa pequeña\". Si la velocidad es mayor a 80 Km/h, el resultado es \"Multa grande\". Además, considere que si esto ocurre el día de su cumpleaños (codificado como parámetro booleano que recibe la función), su velocidad podría ser 5 Km/ mayor en todos los casos. **"
      ]
    },
    {
      "cell_type": "code",
      "metadata": {
        "collapsed": true,
        "id": "1s2BpJaCyQu6"
      },
      "source": [
        ""
      ],
      "execution_count": null,
      "outputs": []
    },
    {
      "cell_type": "code",
      "metadata": {
        "collapsed": true,
        "id": "Ht7yruvxyQu6"
      },
      "source": [
        ""
      ],
      "execution_count": null,
      "outputs": []
    },
    {
      "cell_type": "code",
      "metadata": {
        "id": "QkeNRtKUyQu7",
        "outputId": "33908a65-9d20-46aa-8c87-7050bc23d3de"
      },
      "source": [
        "definirMulta(81,True)"
      ],
      "execution_count": null,
      "outputs": [
        {
          "data": {
            "text/plain": [
              "'Multa pequeña'"
            ]
          },
          "execution_count": 52,
          "metadata": {},
          "output_type": "execute_result"
        }
      ]
    },
    {
      "cell_type": "code",
      "metadata": {
        "id": "sMNnKCG9yQu7",
        "outputId": "bed81c8a-d975-496a-daf0-f699eb70e093"
      },
      "source": [
        "definirMulta(81,False)"
      ],
      "execution_count": null,
      "outputs": [
        {
          "data": {
            "text/plain": [
              "'Multa grande'"
            ]
          },
          "execution_count": 53,
          "metadata": {},
          "output_type": "execute_result"
        }
      ]
    },
    {
      "cell_type": "markdown",
      "metadata": {
        "id": "l7tkrCTxyQu8"
      },
      "source": [
        "### Cargando Pickle"
      ]
    },
    {
      "cell_type": "markdown",
      "metadata": {
        "id": "voZFZQ5byQu9"
      },
      "source": [
        "[**Pickle**](https://wiki.python.org/moin/UsingPickle) nos permite serializar casi todo tipo de objetos en Python. Sin embargo, existen elementos como clases, funciones y metodos que no pueden ser almacenados usando Pickle. Cuando se almacene una instancia de una clase, Pickle no almacenará la clase del objeto, sino una cadena de caracteres que identifique a qué clase pertenece el objeto. \n",
        "\n",
        "A continuación usaremos el conjunto de datos de usuarios del sitio de revisión de películas y almacenaremos los primeros cinco usuarios usando Pickle. Posteriormente los cargaremos usando también Pickle."
      ]
    },
    {
      "cell_type": "code",
      "metadata": {
        "id": "dcb21T0jyQu-"
      },
      "source": [
        "import pickle\n",
        "\n",
        "with open('data/file_load/user-data.csv', 'r') as csvfile:\n",
        "    user_data = csv.reader(csvfile, delimiter='|')\n",
        "    data = list(user_data)"
      ],
      "execution_count": null,
      "outputs": []
    },
    {
      "cell_type": "code",
      "metadata": {
        "id": "NF0HT0P_yQu-"
      },
      "source": [
        "data[-5:]"
      ],
      "execution_count": null,
      "outputs": []
    },
    {
      "cell_type": "code",
      "metadata": {
        "id": "0tB8JkkDyQu-"
      },
      "source": [
        "pickle.dump(data[-5:], open(\"data/file_load/user_data.pkl\", \"wb\"))"
      ],
      "execution_count": null,
      "outputs": []
    },
    {
      "cell_type": "markdown",
      "metadata": {
        "id": "1dOxYEqJyQu_"
      },
      "source": [
        "Ahora cargamos el archivo pickle de la siguiente manera:"
      ]
    },
    {
      "cell_type": "code",
      "metadata": {
        "id": "v1v8pNJLyQu_"
      },
      "source": [
        "user_data = pickle.load(open(\"data/file_load/user_data.pkl\", \"rb\" ))"
      ],
      "execution_count": null,
      "outputs": []
    },
    {
      "cell_type": "code",
      "metadata": {
        "id": "Y3Qf4mwMyQvA"
      },
      "source": [
        "user_data"
      ],
      "execution_count": null,
      "outputs": []
    }
  ]
}